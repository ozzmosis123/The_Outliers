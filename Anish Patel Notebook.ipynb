{
 "cells": [
  {
   "cell_type": "code",
   "execution_count": 2,
   "metadata": {},
   "outputs": [],
   "source": [
    "import pandas as pd\n",
    "import matplotlib.pyplot as plt\n",
    "import numpy as np\n",
    "import random"
   ]
  },
  {
   "cell_type": "code",
   "execution_count": 3,
   "metadata": {},
   "outputs": [],
   "source": [
    "sample_data = pd.read_csv(\"cities_with_all_interests.csv\")"
   ]
  },
  {
   "cell_type": "code",
   "execution_count": 4,
   "metadata": {},
   "outputs": [
    {
     "data": {
      "text/html": [
       "<div>\n",
       "<style scoped>\n",
       "    .dataframe tbody tr th:only-of-type {\n",
       "        vertical-align: middle;\n",
       "    }\n",
       "\n",
       "    .dataframe tbody tr th {\n",
       "        vertical-align: top;\n",
       "    }\n",
       "\n",
       "    .dataframe thead th {\n",
       "        text-align: right;\n",
       "    }\n",
       "</style>\n",
       "<table border=\"1\" class=\"dataframe\">\n",
       "  <thead>\n",
       "    <tr style=\"text-align: right;\">\n",
       "      <th></th>\n",
       "      <th>Unnamed: 0</th>\n",
       "      <th>id</th>\n",
       "      <th>host_id</th>\n",
       "      <th>host_response_time</th>\n",
       "      <th>host_response_rate</th>\n",
       "      <th>host_is_superhost</th>\n",
       "      <th>host_listings_count</th>\n",
       "      <th>street</th>\n",
       "      <th>neighbourhood</th>\n",
       "      <th>neighbourhood_cleansed</th>\n",
       "      <th>...</th>\n",
       "      <th>number_of_reviews</th>\n",
       "      <th>review_scores_rating</th>\n",
       "      <th>review_scores_accuracy</th>\n",
       "      <th>review_scores_cleanliness</th>\n",
       "      <th>review_scores_checkin</th>\n",
       "      <th>review_scores_location</th>\n",
       "      <th>reviews_per_month</th>\n",
       "      <th>crime</th>\n",
       "      <th>year</th>\n",
       "      <th># point of interest</th>\n",
       "    </tr>\n",
       "  </thead>\n",
       "  <tbody>\n",
       "    <tr>\n",
       "      <td>0</td>\n",
       "      <td>0</td>\n",
       "      <td>27402246</td>\n",
       "      <td>171503602</td>\n",
       "      <td>NaN</td>\n",
       "      <td>NaN</td>\n",
       "      <td>f</td>\n",
       "      <td>1.0</td>\n",
       "      <td>Los Angeles, CA, United States</td>\n",
       "      <td>Echo Park</td>\n",
       "      <td>Echo Park</td>\n",
       "      <td>...</td>\n",
       "      <td>3</td>\n",
       "      <td>100.0</td>\n",
       "      <td>10.0</td>\n",
       "      <td>10.0</td>\n",
       "      <td>10.0</td>\n",
       "      <td>10.0</td>\n",
       "      <td>0.19</td>\n",
       "      <td>47879.0</td>\n",
       "      <td>2019.0</td>\n",
       "      <td>19.0</td>\n",
       "    </tr>\n",
       "    <tr>\n",
       "      <td>1</td>\n",
       "      <td>1</td>\n",
       "      <td>5627346</td>\n",
       "      <td>9355137</td>\n",
       "      <td>within an hour</td>\n",
       "      <td>100%</td>\n",
       "      <td>f</td>\n",
       "      <td>2.0</td>\n",
       "      <td>Los Angeles, CA, United States</td>\n",
       "      <td>Cahuenga Pass</td>\n",
       "      <td>Hollywood Hills</td>\n",
       "      <td>...</td>\n",
       "      <td>9</td>\n",
       "      <td>98.0</td>\n",
       "      <td>10.0</td>\n",
       "      <td>10.0</td>\n",
       "      <td>10.0</td>\n",
       "      <td>10.0</td>\n",
       "      <td>0.16</td>\n",
       "      <td>47879.0</td>\n",
       "      <td>2019.0</td>\n",
       "      <td>20.0</td>\n",
       "    </tr>\n",
       "    <tr>\n",
       "      <td>2</td>\n",
       "      <td>2</td>\n",
       "      <td>39090938</td>\n",
       "      <td>299617303</td>\n",
       "      <td>within an hour</td>\n",
       "      <td>100%</td>\n",
       "      <td>f</td>\n",
       "      <td>0.0</td>\n",
       "      <td>Los Angeles, CA, United States</td>\n",
       "      <td>Mid-Wilshire</td>\n",
       "      <td>East Hollywood</td>\n",
       "      <td>...</td>\n",
       "      <td>3</td>\n",
       "      <td>93.0</td>\n",
       "      <td>9.0</td>\n",
       "      <td>9.0</td>\n",
       "      <td>10.0</td>\n",
       "      <td>9.0</td>\n",
       "      <td>1.70</td>\n",
       "      <td>47879.0</td>\n",
       "      <td>2019.0</td>\n",
       "      <td>20.0</td>\n",
       "    </tr>\n",
       "    <tr>\n",
       "      <td>3</td>\n",
       "      <td>3</td>\n",
       "      <td>20678163</td>\n",
       "      <td>4271811</td>\n",
       "      <td>NaN</td>\n",
       "      <td>NaN</td>\n",
       "      <td>f</td>\n",
       "      <td>2.0</td>\n",
       "      <td>Los Angeles, CA, United States</td>\n",
       "      <td>Mar Vista</td>\n",
       "      <td>Mar Vista</td>\n",
       "      <td>...</td>\n",
       "      <td>4</td>\n",
       "      <td>95.0</td>\n",
       "      <td>10.0</td>\n",
       "      <td>10.0</td>\n",
       "      <td>10.0</td>\n",
       "      <td>10.0</td>\n",
       "      <td>0.26</td>\n",
       "      <td>47879.0</td>\n",
       "      <td>2019.0</td>\n",
       "      <td>8.0</td>\n",
       "    </tr>\n",
       "    <tr>\n",
       "      <td>4</td>\n",
       "      <td>4</td>\n",
       "      <td>5299075</td>\n",
       "      <td>3118435</td>\n",
       "      <td>within a few hours</td>\n",
       "      <td>93%</td>\n",
       "      <td>f</td>\n",
       "      <td>9.0</td>\n",
       "      <td>Santa Monica, CA, United States</td>\n",
       "      <td>Santa Monica</td>\n",
       "      <td>Santa Monica</td>\n",
       "      <td>...</td>\n",
       "      <td>56</td>\n",
       "      <td>87.0</td>\n",
       "      <td>9.0</td>\n",
       "      <td>9.0</td>\n",
       "      <td>10.0</td>\n",
       "      <td>9.0</td>\n",
       "      <td>0.97</td>\n",
       "      <td>7166.0</td>\n",
       "      <td>2019.0</td>\n",
       "      <td>20.0</td>\n",
       "    </tr>\n",
       "  </tbody>\n",
       "</table>\n",
       "<p>5 rows × 51 columns</p>\n",
       "</div>"
      ],
      "text/plain": [
       "   Unnamed: 0        id    host_id  host_response_time host_response_rate  \\\n",
       "0           0  27402246  171503602                 NaN                NaN   \n",
       "1           1   5627346    9355137      within an hour               100%   \n",
       "2           2  39090938  299617303      within an hour               100%   \n",
       "3           3  20678163    4271811                 NaN                NaN   \n",
       "4           4   5299075    3118435  within a few hours                93%   \n",
       "\n",
       "  host_is_superhost  host_listings_count                           street  \\\n",
       "0                 f                  1.0   Los Angeles, CA, United States   \n",
       "1                 f                  2.0   Los Angeles, CA, United States   \n",
       "2                 f                  0.0   Los Angeles, CA, United States   \n",
       "3                 f                  2.0   Los Angeles, CA, United States   \n",
       "4                 f                  9.0  Santa Monica, CA, United States   \n",
       "\n",
       "   neighbourhood neighbourhood_cleansed  ... number_of_reviews  \\\n",
       "0      Echo Park              Echo Park  ...                 3   \n",
       "1  Cahuenga Pass        Hollywood Hills  ...                 9   \n",
       "2   Mid-Wilshire         East Hollywood  ...                 3   \n",
       "3      Mar Vista              Mar Vista  ...                 4   \n",
       "4   Santa Monica           Santa Monica  ...                56   \n",
       "\n",
       "  review_scores_rating review_scores_accuracy  review_scores_cleanliness  \\\n",
       "0                100.0                   10.0                       10.0   \n",
       "1                 98.0                   10.0                       10.0   \n",
       "2                 93.0                    9.0                        9.0   \n",
       "3                 95.0                   10.0                       10.0   \n",
       "4                 87.0                    9.0                        9.0   \n",
       "\n",
       "  review_scores_checkin review_scores_location reviews_per_month    crime  \\\n",
       "0                  10.0                   10.0              0.19  47879.0   \n",
       "1                  10.0                   10.0              0.16  47879.0   \n",
       "2                  10.0                    9.0              1.70  47879.0   \n",
       "3                  10.0                   10.0              0.26  47879.0   \n",
       "4                  10.0                    9.0              0.97   7166.0   \n",
       "\n",
       "     year  # point of interest  \n",
       "0  2019.0                 19.0  \n",
       "1  2019.0                 20.0  \n",
       "2  2019.0                 20.0  \n",
       "3  2019.0                  8.0  \n",
       "4  2019.0                 20.0  \n",
       "\n",
       "[5 rows x 51 columns]"
      ]
     },
     "execution_count": 4,
     "metadata": {},
     "output_type": "execute_result"
    }
   ],
   "source": [
    "sample_data.head()"
   ]
  },
  {
   "cell_type": "code",
   "execution_count": 5,
   "metadata": {},
   "outputs": [
    {
     "data": {
      "text/html": [
       "<div>\n",
       "<style scoped>\n",
       "    .dataframe tbody tr th:only-of-type {\n",
       "        vertical-align: middle;\n",
       "    }\n",
       "\n",
       "    .dataframe tbody tr th {\n",
       "        vertical-align: top;\n",
       "    }\n",
       "\n",
       "    .dataframe thead th {\n",
       "        text-align: right;\n",
       "    }\n",
       "</style>\n",
       "<table border=\"1\" class=\"dataframe\">\n",
       "  <thead>\n",
       "    <tr style=\"text-align: right;\">\n",
       "      <th></th>\n",
       "      <th>Unnamed: 0</th>\n",
       "      <th>id</th>\n",
       "      <th>host_id</th>\n",
       "      <th>host_response_time</th>\n",
       "      <th>host_response_rate</th>\n",
       "      <th>host_is_superhost</th>\n",
       "      <th>host_listings_count</th>\n",
       "      <th>street</th>\n",
       "      <th>neighbourhood</th>\n",
       "      <th>neighbourhood_cleansed</th>\n",
       "      <th>...</th>\n",
       "      <th>number_of_reviews</th>\n",
       "      <th>review_scores_rating</th>\n",
       "      <th>review_scores_accuracy</th>\n",
       "      <th>review_scores_cleanliness</th>\n",
       "      <th>review_scores_checkin</th>\n",
       "      <th>review_scores_location</th>\n",
       "      <th>reviews_per_month</th>\n",
       "      <th>crime</th>\n",
       "      <th>year</th>\n",
       "      <th># point of interest</th>\n",
       "    </tr>\n",
       "  </thead>\n",
       "  <tbody>\n",
       "    <tr>\n",
       "      <td>0</td>\n",
       "      <td>0</td>\n",
       "      <td>27402246</td>\n",
       "      <td>171503602</td>\n",
       "      <td>NaN</td>\n",
       "      <td>NaN</td>\n",
       "      <td>f</td>\n",
       "      <td>1.0</td>\n",
       "      <td>Los Angeles, CA, United States</td>\n",
       "      <td>Echo Park</td>\n",
       "      <td>Echo Park</td>\n",
       "      <td>...</td>\n",
       "      <td>3</td>\n",
       "      <td>100.0</td>\n",
       "      <td>10.0</td>\n",
       "      <td>10.0</td>\n",
       "      <td>10.0</td>\n",
       "      <td>10.0</td>\n",
       "      <td>0.19</td>\n",
       "      <td>47879.0</td>\n",
       "      <td>2019.0</td>\n",
       "      <td>19.0</td>\n",
       "    </tr>\n",
       "    <tr>\n",
       "      <td>1</td>\n",
       "      <td>1</td>\n",
       "      <td>5627346</td>\n",
       "      <td>9355137</td>\n",
       "      <td>within an hour</td>\n",
       "      <td>100%</td>\n",
       "      <td>f</td>\n",
       "      <td>2.0</td>\n",
       "      <td>Los Angeles, CA, United States</td>\n",
       "      <td>Cahuenga Pass</td>\n",
       "      <td>Hollywood Hills</td>\n",
       "      <td>...</td>\n",
       "      <td>9</td>\n",
       "      <td>98.0</td>\n",
       "      <td>10.0</td>\n",
       "      <td>10.0</td>\n",
       "      <td>10.0</td>\n",
       "      <td>10.0</td>\n",
       "      <td>0.16</td>\n",
       "      <td>47879.0</td>\n",
       "      <td>2019.0</td>\n",
       "      <td>20.0</td>\n",
       "    </tr>\n",
       "    <tr>\n",
       "      <td>2</td>\n",
       "      <td>2</td>\n",
       "      <td>39090938</td>\n",
       "      <td>299617303</td>\n",
       "      <td>within an hour</td>\n",
       "      <td>100%</td>\n",
       "      <td>f</td>\n",
       "      <td>0.0</td>\n",
       "      <td>Los Angeles, CA, United States</td>\n",
       "      <td>Mid-Wilshire</td>\n",
       "      <td>East Hollywood</td>\n",
       "      <td>...</td>\n",
       "      <td>3</td>\n",
       "      <td>93.0</td>\n",
       "      <td>9.0</td>\n",
       "      <td>9.0</td>\n",
       "      <td>10.0</td>\n",
       "      <td>9.0</td>\n",
       "      <td>1.70</td>\n",
       "      <td>47879.0</td>\n",
       "      <td>2019.0</td>\n",
       "      <td>20.0</td>\n",
       "    </tr>\n",
       "    <tr>\n",
       "      <td>3</td>\n",
       "      <td>3</td>\n",
       "      <td>20678163</td>\n",
       "      <td>4271811</td>\n",
       "      <td>NaN</td>\n",
       "      <td>NaN</td>\n",
       "      <td>f</td>\n",
       "      <td>2.0</td>\n",
       "      <td>Los Angeles, CA, United States</td>\n",
       "      <td>Mar Vista</td>\n",
       "      <td>Mar Vista</td>\n",
       "      <td>...</td>\n",
       "      <td>4</td>\n",
       "      <td>95.0</td>\n",
       "      <td>10.0</td>\n",
       "      <td>10.0</td>\n",
       "      <td>10.0</td>\n",
       "      <td>10.0</td>\n",
       "      <td>0.26</td>\n",
       "      <td>47879.0</td>\n",
       "      <td>2019.0</td>\n",
       "      <td>8.0</td>\n",
       "    </tr>\n",
       "    <tr>\n",
       "      <td>4</td>\n",
       "      <td>4</td>\n",
       "      <td>5299075</td>\n",
       "      <td>3118435</td>\n",
       "      <td>within a few hours</td>\n",
       "      <td>93%</td>\n",
       "      <td>f</td>\n",
       "      <td>9.0</td>\n",
       "      <td>Santa Monica, CA, United States</td>\n",
       "      <td>Santa Monica</td>\n",
       "      <td>Santa Monica</td>\n",
       "      <td>...</td>\n",
       "      <td>56</td>\n",
       "      <td>87.0</td>\n",
       "      <td>9.0</td>\n",
       "      <td>9.0</td>\n",
       "      <td>10.0</td>\n",
       "      <td>9.0</td>\n",
       "      <td>0.97</td>\n",
       "      <td>7166.0</td>\n",
       "      <td>2019.0</td>\n",
       "      <td>20.0</td>\n",
       "    </tr>\n",
       "    <tr>\n",
       "      <td>...</td>\n",
       "      <td>...</td>\n",
       "      <td>...</td>\n",
       "      <td>...</td>\n",
       "      <td>...</td>\n",
       "      <td>...</td>\n",
       "      <td>...</td>\n",
       "      <td>...</td>\n",
       "      <td>...</td>\n",
       "      <td>...</td>\n",
       "      <td>...</td>\n",
       "      <td>...</td>\n",
       "      <td>...</td>\n",
       "      <td>...</td>\n",
       "      <td>...</td>\n",
       "      <td>...</td>\n",
       "      <td>...</td>\n",
       "      <td>...</td>\n",
       "      <td>...</td>\n",
       "      <td>...</td>\n",
       "      <td>...</td>\n",
       "      <td>...</td>\n",
       "    </tr>\n",
       "    <tr>\n",
       "      <td>995</td>\n",
       "      <td>995</td>\n",
       "      <td>21612110</td>\n",
       "      <td>157214926</td>\n",
       "      <td>within an hour</td>\n",
       "      <td>93%</td>\n",
       "      <td>f</td>\n",
       "      <td>1.0</td>\n",
       "      <td>Long Beach, CA, United States</td>\n",
       "      <td>Long Beach</td>\n",
       "      <td>Long Beach</td>\n",
       "      <td>...</td>\n",
       "      <td>76</td>\n",
       "      <td>90.0</td>\n",
       "      <td>9.0</td>\n",
       "      <td>9.0</td>\n",
       "      <td>9.0</td>\n",
       "      <td>8.0</td>\n",
       "      <td>2.99</td>\n",
       "      <td>148.0</td>\n",
       "      <td>2019.0</td>\n",
       "      <td>20.0</td>\n",
       "    </tr>\n",
       "    <tr>\n",
       "      <td>996</td>\n",
       "      <td>996</td>\n",
       "      <td>34204446</td>\n",
       "      <td>48005494</td>\n",
       "      <td>within a few hours</td>\n",
       "      <td>99%</td>\n",
       "      <td>t</td>\n",
       "      <td>1759.0</td>\n",
       "      <td>Los Angeles, CA, United States</td>\n",
       "      <td>Downtown</td>\n",
       "      <td>Downtown</td>\n",
       "      <td>...</td>\n",
       "      <td>1</td>\n",
       "      <td>100.0</td>\n",
       "      <td>10.0</td>\n",
       "      <td>8.0</td>\n",
       "      <td>10.0</td>\n",
       "      <td>10.0</td>\n",
       "      <td>0.30</td>\n",
       "      <td>47879.0</td>\n",
       "      <td>2019.0</td>\n",
       "      <td>20.0</td>\n",
       "    </tr>\n",
       "    <tr>\n",
       "      <td>997</td>\n",
       "      <td>997</td>\n",
       "      <td>13492765</td>\n",
       "      <td>12808522</td>\n",
       "      <td>within an hour</td>\n",
       "      <td>100%</td>\n",
       "      <td>t</td>\n",
       "      <td>2.0</td>\n",
       "      <td>Los Angeles, CA, United States</td>\n",
       "      <td>Mid-Wilshire</td>\n",
       "      <td>Larchmont</td>\n",
       "      <td>...</td>\n",
       "      <td>244</td>\n",
       "      <td>99.0</td>\n",
       "      <td>10.0</td>\n",
       "      <td>10.0</td>\n",
       "      <td>10.0</td>\n",
       "      <td>10.0</td>\n",
       "      <td>5.90</td>\n",
       "      <td>47879.0</td>\n",
       "      <td>2019.0</td>\n",
       "      <td>20.0</td>\n",
       "    </tr>\n",
       "    <tr>\n",
       "      <td>998</td>\n",
       "      <td>998</td>\n",
       "      <td>25484807</td>\n",
       "      <td>45784450</td>\n",
       "      <td>within an hour</td>\n",
       "      <td>100%</td>\n",
       "      <td>f</td>\n",
       "      <td>8.0</td>\n",
       "      <td>Los Angeles, CA, United States</td>\n",
       "      <td>Mid-Wilshire</td>\n",
       "      <td>Pico-Union</td>\n",
       "      <td>...</td>\n",
       "      <td>18</td>\n",
       "      <td>92.0</td>\n",
       "      <td>10.0</td>\n",
       "      <td>9.0</td>\n",
       "      <td>10.0</td>\n",
       "      <td>9.0</td>\n",
       "      <td>1.13</td>\n",
       "      <td>47879.0</td>\n",
       "      <td>2019.0</td>\n",
       "      <td>20.0</td>\n",
       "    </tr>\n",
       "    <tr>\n",
       "      <td>999</td>\n",
       "      <td>999</td>\n",
       "      <td>20771460</td>\n",
       "      <td>15452100</td>\n",
       "      <td>within an hour</td>\n",
       "      <td>100%</td>\n",
       "      <td>t</td>\n",
       "      <td>1.0</td>\n",
       "      <td>Los Angeles, CA, United States</td>\n",
       "      <td>Highland Park</td>\n",
       "      <td>Highland Park</td>\n",
       "      <td>...</td>\n",
       "      <td>31</td>\n",
       "      <td>96.0</td>\n",
       "      <td>10.0</td>\n",
       "      <td>10.0</td>\n",
       "      <td>10.0</td>\n",
       "      <td>10.0</td>\n",
       "      <td>1.14</td>\n",
       "      <td>47879.0</td>\n",
       "      <td>2019.0</td>\n",
       "      <td>7.0</td>\n",
       "    </tr>\n",
       "  </tbody>\n",
       "</table>\n",
       "<p>1000 rows × 51 columns</p>\n",
       "</div>"
      ],
      "text/plain": [
       "     Unnamed: 0        id    host_id  host_response_time host_response_rate  \\\n",
       "0             0  27402246  171503602                 NaN                NaN   \n",
       "1             1   5627346    9355137      within an hour               100%   \n",
       "2             2  39090938  299617303      within an hour               100%   \n",
       "3             3  20678163    4271811                 NaN                NaN   \n",
       "4             4   5299075    3118435  within a few hours                93%   \n",
       "..          ...       ...        ...                 ...                ...   \n",
       "995         995  21612110  157214926      within an hour                93%   \n",
       "996         996  34204446   48005494  within a few hours                99%   \n",
       "997         997  13492765   12808522      within an hour               100%   \n",
       "998         998  25484807   45784450      within an hour               100%   \n",
       "999         999  20771460   15452100      within an hour               100%   \n",
       "\n",
       "    host_is_superhost  host_listings_count                           street  \\\n",
       "0                   f                  1.0   Los Angeles, CA, United States   \n",
       "1                   f                  2.0   Los Angeles, CA, United States   \n",
       "2                   f                  0.0   Los Angeles, CA, United States   \n",
       "3                   f                  2.0   Los Angeles, CA, United States   \n",
       "4                   f                  9.0  Santa Monica, CA, United States   \n",
       "..                ...                  ...                              ...   \n",
       "995                 f                  1.0    Long Beach, CA, United States   \n",
       "996                 t               1759.0   Los Angeles, CA, United States   \n",
       "997                 t                  2.0   Los Angeles, CA, United States   \n",
       "998                 f                  8.0   Los Angeles, CA, United States   \n",
       "999                 t                  1.0   Los Angeles, CA, United States   \n",
       "\n",
       "     neighbourhood neighbourhood_cleansed  ... number_of_reviews  \\\n",
       "0        Echo Park              Echo Park  ...                 3   \n",
       "1    Cahuenga Pass        Hollywood Hills  ...                 9   \n",
       "2     Mid-Wilshire         East Hollywood  ...                 3   \n",
       "3        Mar Vista              Mar Vista  ...                 4   \n",
       "4     Santa Monica           Santa Monica  ...                56   \n",
       "..             ...                    ...  ...               ...   \n",
       "995     Long Beach             Long Beach  ...                76   \n",
       "996       Downtown               Downtown  ...                 1   \n",
       "997   Mid-Wilshire              Larchmont  ...               244   \n",
       "998   Mid-Wilshire             Pico-Union  ...                18   \n",
       "999  Highland Park          Highland Park  ...                31   \n",
       "\n",
       "    review_scores_rating review_scores_accuracy  review_scores_cleanliness  \\\n",
       "0                  100.0                   10.0                       10.0   \n",
       "1                   98.0                   10.0                       10.0   \n",
       "2                   93.0                    9.0                        9.0   \n",
       "3                   95.0                   10.0                       10.0   \n",
       "4                   87.0                    9.0                        9.0   \n",
       "..                   ...                    ...                        ...   \n",
       "995                 90.0                    9.0                        9.0   \n",
       "996                100.0                   10.0                        8.0   \n",
       "997                 99.0                   10.0                       10.0   \n",
       "998                 92.0                   10.0                        9.0   \n",
       "999                 96.0                   10.0                       10.0   \n",
       "\n",
       "    review_scores_checkin review_scores_location reviews_per_month    crime  \\\n",
       "0                    10.0                   10.0              0.19  47879.0   \n",
       "1                    10.0                   10.0              0.16  47879.0   \n",
       "2                    10.0                    9.0              1.70  47879.0   \n",
       "3                    10.0                   10.0              0.26  47879.0   \n",
       "4                    10.0                    9.0              0.97   7166.0   \n",
       "..                    ...                    ...               ...      ...   \n",
       "995                   9.0                    8.0              2.99    148.0   \n",
       "996                  10.0                   10.0              0.30  47879.0   \n",
       "997                  10.0                   10.0              5.90  47879.0   \n",
       "998                  10.0                    9.0              1.13  47879.0   \n",
       "999                  10.0                   10.0              1.14  47879.0   \n",
       "\n",
       "       year  # point of interest  \n",
       "0    2019.0                 19.0  \n",
       "1    2019.0                 20.0  \n",
       "2    2019.0                 20.0  \n",
       "3    2019.0                  8.0  \n",
       "4    2019.0                 20.0  \n",
       "..      ...                  ...  \n",
       "995  2019.0                 20.0  \n",
       "996  2019.0                 20.0  \n",
       "997  2019.0                 20.0  \n",
       "998  2019.0                 20.0  \n",
       "999  2019.0                  7.0  \n",
       "\n",
       "[1000 rows x 51 columns]"
      ]
     },
     "execution_count": 5,
     "metadata": {},
     "output_type": "execute_result"
    }
   ],
   "source": [
    "datadf = pd.DataFrame(sample_data)\n",
    "datadf"
   ]
  },
  {
   "cell_type": "code",
   "execution_count": 6,
   "metadata": {},
   "outputs": [
    {
     "data": {
      "text/plain": [
       "97.13793103448276"
      ]
     },
     "execution_count": 6,
     "metadata": {},
     "output_type": "execute_result"
    }
   ],
   "source": [
    "superhostvsrating = datadf.loc[datadf[\"host_is_superhost\"] == \"t\"][\"review_scores_rating\"]\n",
    "superhostvsrating.mean()"
   ]
  },
  {
   "cell_type": "code",
   "execution_count": 7,
   "metadata": {},
   "outputs": [
    {
     "data": {
      "text/plain": [
       "92.7875816993464"
      ]
     },
     "execution_count": 7,
     "metadata": {},
     "output_type": "execute_result"
    }
   ],
   "source": [
    "nonsuperhostvsrating = datadf.loc[datadf[\"host_is_superhost\"] == \"f\"][\"review_scores_rating\"]\n",
    "nonsuperhostvsrating.mean()"
   ]
  },
  {
   "cell_type": "code",
   "execution_count": 8,
   "metadata": {},
   "outputs": [
    {
     "data": {
      "image/png": "[encoded data removed]",
      "text/plain": [
       "<Figure size 432x288 with 1 Axes>"
      ]
     },
     "metadata": {
      "needs_background": "light"
     },
     "output_type": "display_data"
    }
   ],
   "source": [
    "review_ratings = [97.13793103448276,92.7875816993464 ]\n",
    "bars = (\"Superhost\", \"Non Superhost\")\n",
    "ypos = np.arange(len(bars))\n",
    "plt.bar(ypos,review_ratings,color=\"purple\", width=.7)\n",
    "plt.xticks(ypos,bars)\n",
    "plt.xlabel(\"Review Ratings\")\n",
    "plt.show()"
   ]
  },
  {
   "cell_type": "code",
   "execution_count": 9,
   "metadata": {},
   "outputs": [
    {
     "data": {
      "text/plain": [
       "68.20424403183024"
      ]
     },
     "execution_count": 9,
     "metadata": {},
     "output_type": "execute_result"
    }
   ],
   "source": [
    "superhostvsreviews = datadf.loc[datadf[\"host_is_superhost\"] == \"t\"][\"number_of_reviews\"]\n",
    "superhostvsreviews.mean()\n"
   ]
  },
  {
   "cell_type": "code",
   "execution_count": 10,
   "metadata": {},
   "outputs": [
    {
     "data": {
      "text/plain": [
       "34.80882352941177"
      ]
     },
     "execution_count": 10,
     "metadata": {},
     "output_type": "execute_result"
    }
   ],
   "source": [
    "nonsuperhostvsreviews = datadf.loc[datadf[\"host_is_superhost\"] == \"f\"][\"number_of_reviews\"]\n",
    "nonsuperhostvsreviews.mean()\n"
   ]
  },
  {
   "cell_type": "code",
   "execution_count": 11,
   "metadata": {},
   "outputs": [
    {
     "data": {
      "image/png": "[encoded data removed]",
      "text/plain": [
       "<Figure size 432x288 with 1 Axes>"
      ]
     },
     "metadata": {
      "needs_background": "light"
     },
     "output_type": "display_data"
    }
   ],
   "source": [
    "review_numbers = [68.20424403183024,34.80882352941177 ]\n",
    "bars = (\"Superhost\", \"Non Superhost\")\n",
    "ypos1 = np.arange(len(bars))\n",
    "plt.bar(ypos1,review_numbers,color=\"green\", width=.7)\n",
    "plt.xticks(ypos,bars)\n",
    "plt.xlabel(\"# of Reviews\")\n",
    "plt.show()"
   ]
  },
  {
   "cell_type": "code",
   "execution_count": 12,
   "metadata": {},
   "outputs": [
    {
     "data": {
      "image/png": "[encoded data removed]",
      "text/plain": [
       "<Figure size 432x288 with 1 Axes>"
      ]
     },
     "metadata": {},
     "output_type": "display_data"
    }
   ],
   "source": [
    "fig = plt.figure()\n",
    "ax = fig.add_axes([0,0,1,1])\n",
    "ax.axis(\"equal\")\n",
    "labels=[\"Superhost\", \"Non Superhost\"]\n",
    "avggreviews = [68.20424403183024,34.80882352941177]\n",
    "ax.pie(avggreviews, labels=labels)\n",
    "plt.show()"
   ]
  },
  {
   "cell_type": "code",
   "execution_count": 13,
   "metadata": {},
   "outputs": [
    {
     "data": {
      "text/plain": [
       "119.23872679045093"
      ]
     },
     "execution_count": 13,
     "metadata": {},
     "output_type": "execute_result"
    }
   ],
   "source": [
    "superhostvsreviews = datadf.loc[datadf[\"host_is_superhost\"] == \"t\"][\"price\"]\n",
    "superhostvsreviews.mean()"
   ]
  },
  {
   "cell_type": "code",
   "execution_count": 14,
   "metadata": {},
   "outputs": [
    {
     "data": {
      "text/plain": [
       "117.77124183006536"
      ]
     },
     "execution_count": 14,
     "metadata": {},
     "output_type": "execute_result"
    }
   ],
   "source": [
    "nonsuperhostvsreviews = datadf.loc[datadf[\"host_is_superhost\"] == \"f\"][\"price\"]\n",
    "nonsuperhostvsreviews.mean()"
   ]
  },
  {
   "cell_type": "code",
   "execution_count": 15,
   "metadata": {},
   "outputs": [
    {
     "data": {
      "image/png": "[encoded data removed]",
      "text/plain": [
       "<Figure size 432x288 with 1 Axes>"
      ]
     },
     "metadata": {
      "needs_background": "light"
     },
     "output_type": "display_data"
    }
   ],
   "source": [
    "review_numbers = [119.23872679045093,117.77124183006536]\n",
    "bars = (\"Superhost\", \"Non Superhost\")\n",
    "ypos1 = np.arange(len(bars))\n",
    "plt.bar(ypos1,review_numbers, width=.7)\n",
    "plt.xticks(ypos,bars)\n",
    "plt.xlabel(\"Prices in $\")\n",
    "plt.show()"
   ]
  },
  {
   "cell_type": "code",
   "execution_count": 16,
   "metadata": {},
   "outputs": [
    {
     "data": {
      "text/plain": [
       "159.3793103448276"
      ]
     },
     "execution_count": 16,
     "metadata": {},
     "output_type": "execute_result"
    }
   ],
   "source": [
    "superhostvsyearround = datadf.loc[datadf[\"host_is_superhost\"] == \"t\"][\"availability_365\"]\n",
    "superhostvsyearround.mean()"
   ]
  },
  {
   "cell_type": "code",
   "execution_count": 17,
   "metadata": {},
   "outputs": [
    {
     "data": {
      "text/plain": [
       "143.68790849673204"
      ]
     },
     "execution_count": 17,
     "metadata": {},
     "output_type": "execute_result"
    }
   ],
   "source": [
    "nonsuperhostvsyearround = datadf.loc[datadf[\"host_is_superhost\"] == \"f\"][\"availability_365\"]\n",
    "\n",
    "nonsuperhostvsyearround.mean()"
   ]
  },
  {
   "cell_type": "code",
   "execution_count": 18,
   "metadata": {},
   "outputs": [
    {
     "data": {
      "text/plain": [
       "Entire home/apt    254\n",
       "Private room       109\n",
       "Shared room         13\n",
       "Hotel room           1\n",
       "Name: room_type, dtype: int64"
      ]
     },
     "execution_count": 18,
     "metadata": {},
     "output_type": "execute_result"
    }
   ],
   "source": [
    "superhostvsroomtype = datadf.loc[datadf[\"host_is_superhost\"] == \"t\"][\"room_type\"]\n",
    "vcsuperhostvsroomtype = superhostvsroomtype.value_counts()\n",
    "vcsuperhostvsroomtype"
   ]
  },
  {
   "cell_type": "code",
   "execution_count": 19,
   "metadata": {},
   "outputs": [
    {
     "data": {
      "text/plain": [
       "Entire home/apt    67.374005\n",
       "Private room       28.912467\n",
       "Shared room         3.448276\n",
       "Hotel room          0.265252\n",
       "Name: room_type, dtype: float64"
      ]
     },
     "execution_count": 19,
     "metadata": {},
     "output_type": "execute_result"
    }
   ],
   "source": [
    "percent1 = (vcsuperhostvsroomtype / sum(vcsuperhostvsroomtype)) * 100\n",
    "percent1"
   ]
  },
  {
   "cell_type": "code",
   "execution_count": 20,
   "metadata": {},
   "outputs": [
    {
     "data": {
      "text/plain": [
       "Entire home/apt    395\n",
       "Private room       183\n",
       "Shared room         20\n",
       "Hotel room          14\n",
       "Name: room_type, dtype: int64"
      ]
     },
     "execution_count": 20,
     "metadata": {},
     "output_type": "execute_result"
    }
   ],
   "source": [
    "nonsuperhostvsroomtype = datadf.loc[datadf[\"host_is_superhost\"] == \"f\"][\"room_type\"]\n",
    "vcnonsuperhostvsroomtype = nonsuperhostvsroomtype.value_counts()\n",
    "vcnonsuperhostvsroomtype"
   ]
  },
  {
   "cell_type": "code",
   "execution_count": 21,
   "metadata": {},
   "outputs": [
    {
     "data": {
      "text/plain": [
       "Entire home/apt    64.542484\n",
       "Private room       29.901961\n",
       "Shared room         3.267974\n",
       "Hotel room          2.287582\n",
       "Name: room_type, dtype: float64"
      ]
     },
     "execution_count": 21,
     "metadata": {},
     "output_type": "execute_result"
    }
   ],
   "source": [
    "percent2 = (vcnonsuperhostvsroomtype / sum(vcnonsuperhostvsroomtype)) * 100\n",
    "percent2"
   ]
  },
  {
   "cell_type": "code",
   "execution_count": 22,
   "metadata": {},
   "outputs": [
    {
     "data": {
      "text/plain": [
       "House                 117\n",
       "Apartment             117\n",
       "Guesthouse             52\n",
       "Guest suite            30\n",
       "Loft                   16\n",
       "Condominium            13\n",
       "Bungalow               11\n",
       "Townhouse               6\n",
       "Bed and breakfast       3\n",
       "Cottage                 3\n",
       "Camper/RV               2\n",
       "Serviced apartment      2\n",
       "Tiny house              2\n",
       "Tent                    1\n",
       "Hostel                  1\n",
       "Boutique hotel          1\n",
       "Name: property_type, dtype: int64"
      ]
     },
     "execution_count": 22,
     "metadata": {},
     "output_type": "execute_result"
    }
   ],
   "source": [
    "superhostvshousetype = datadf.loc[datadf[\"host_is_superhost\"] == \"t\"][\"property_type\"]\n",
    "vchc = superhostvshousetype.value_counts()\n",
    "vchc"
   ]
  },
  {
   "cell_type": "code",
   "execution_count": 23,
   "metadata": {},
   "outputs": [],
   "source": [
    "# percent3 = (vcsuperhostvshousetype / sum(vcsuperhostvshousetype)) * 100\n",
    "# percent3"
   ]
  },
  {
   "cell_type": "code",
   "execution_count": 24,
   "metadata": {
    "scrolled": true
   },
   "outputs": [
    {
     "data": {
      "text/plain": [
       "Apartment             290\n",
       "House                 162\n",
       "Condominium            33\n",
       "Loft                   21\n",
       "Guesthouse             19\n",
       "Bungalow               19\n",
       "Guest suite            18\n",
       "Townhouse              14\n",
       "Hostel                 10\n",
       "Villa                   6\n",
       "Serviced apartment      6\n",
       "Other                   4\n",
       "Bed and breakfast       2\n",
       "Aparthotel              2\n",
       "Camper/RV               2\n",
       "Boutique hotel          2\n",
       "Treehouse               1\n",
       "Cabin                   1\n",
       "Name: property_type, dtype: int64"
      ]
     },
     "execution_count": 24,
     "metadata": {},
     "output_type": "execute_result"
    }
   ],
   "source": [
    "nonsuperhostvshousetype = datadf.loc[datadf[\"host_is_superhost\"] == \"f\"][\"property_type\"]\n",
    "nonvchc = nonsuperhostvshousetype.value_counts()\n",
    "nonvchc"
   ]
  },
  {
   "cell_type": "code",
   "execution_count": 41,
   "metadata": {},
   "outputs": [
    {
     "data": {
      "image/png": "[encoded data removed]",
      "text/plain": [
       "<Figure size 432x288 with 1 Axes>"
      ]
     },
     "metadata": {
      "needs_background": "light"
     },
     "output_type": "display_data"
    }
   ],
   "source": [
    "barWidth = 0.25\n",
    "bar1 = [31.03,31.03,13.79,7.95,3.44,4.24]\n",
    "bar2 = [47.38,26.47,3.1,2.94,5.39,3.43]\n",
    "\n",
    "r1 = np.arange(len(bar1))\n",
    "r2 = [x + barWidth for x in r1]\n",
    "\n",
    "plt.bar(r1,bar1,width=barWidth,color=\"green\", label=\"Superhost\")\n",
    "plt.bar(r2,bar2, width=barWidth,color =\"purple\", label=\"Non Superhost\")\n",
    "\n",
    "\n",
    "plt.ylabel(\"Amount\")\n",
    "plt.xticks([r + barWidth for r in range(len(bar1))], [\"Apartment\", \"House\",\"Guest House\", \"Guest Suite\", \"Condo\", \"Loft\"], rotation=45)\n",
    "plt.title(\"House Types\")\n",
    "plt.legend()\n",
    "plt.show()"
   ]
  },
  {
   "cell_type": "code",
   "execution_count": 27,
   "metadata": {},
   "outputs": [],
   "source": [
    "# percent4 = (vcnonsuperhostvshousetype / sum(vcnonsuperhostvshousetype)) * 100\n",
    "# percent4"
   ]
  },
  {
   "cell_type": "code",
   "execution_count": 28,
   "metadata": {},
   "outputs": [
    {
     "data": {
      "image/png": "[encoded data removed]",
      "text/plain": [
       "<Figure size 432x288 with 1 Axes>"
      ]
     },
     "metadata": {
      "needs_background": "light"
     },
     "output_type": "display_data"
    }
   ],
   "source": [
    "labels = [\"Entire Home/Apartment\", \"Private Room\", \"Shared Room\", \"Hotel Room\"]\n",
    "x = np.arange(len(labels))\n",
    "width = 0.25\n",
    "\n",
    "fig, ax = plt.subplots()\n",
    "rects1 = ax.bar(x - width/2, percent1, width,color=\"green\", label='Superhost')\n",
    "rects1 = ax.bar(x + width/2, percent2, width,color=\"purple\", label='Non Superhost')\n",
    "\n",
    "ax.set_ylabel('Amount')\n",
    "ax.set_title('Room Types')\n",
    "# ax.set_xticks(x)\n",
    "ax.set_xticklabels(labels)\n",
    "ax.legend()\n",
    "\n",
    "fig.tight_layout()\n",
    "plt.xticks(x,rotation=45)\n",
    "plt.show()\n",
    "\n"
   ]
  },
  {
   "cell_type": "code",
   "execution_count": 29,
   "metadata": {},
   "outputs": [
    {
     "data": {
      "text/plain": [
       "9.6"
      ]
     },
     "execution_count": 29,
     "metadata": {},
     "output_type": "execute_result"
    }
   ],
   "source": [
    "superhostyearround30 = datadf.loc[datadf[\"host_is_superhost\"] == \"t\"][\"availability_30\"]\n",
    "sh30 = round(superhostyearround30.mean(),2)\n",
    "sh30"
   ]
  },
  {
   "cell_type": "code",
   "execution_count": 30,
   "metadata": {},
   "outputs": [
    {
     "data": {
      "text/plain": [
       "24.72"
      ]
     },
     "execution_count": 30,
     "metadata": {},
     "output_type": "execute_result"
    }
   ],
   "source": [
    "superhostyearround60 = datadf.loc[datadf[\"host_is_superhost\"] == \"t\"][\"availability_60\"]\n",
    "sh60 = round(superhostyearround60.mean(),2)\n",
    "sh60"
   ]
  },
  {
   "cell_type": "code",
   "execution_count": 31,
   "metadata": {},
   "outputs": [
    {
     "data": {
      "text/plain": [
       "41.62"
      ]
     },
     "execution_count": 31,
     "metadata": {},
     "output_type": "execute_result"
    }
   ],
   "source": [
    "superhostyearround90 = datadf.loc[datadf[\"host_is_superhost\"] == \"t\"][\"availability_90\"]\n",
    "sh90 = round(superhostyearround90.mean(),2)\n",
    "sh90"
   ]
  },
  {
   "cell_type": "code",
   "execution_count": 32,
   "metadata": {},
   "outputs": [
    {
     "data": {
      "text/plain": [
       "159.38"
      ]
     },
     "execution_count": 32,
     "metadata": {},
     "output_type": "execute_result"
    }
   ],
   "source": [
    "superhostyearround365 = datadf.loc[datadf[\"host_is_superhost\"] == \"t\"][\"availability_365\"]\n",
    "sh365 = round(superhostyearround365.mean(),2)\n",
    "sh365"
   ]
  },
  {
   "cell_type": "code",
   "execution_count": 33,
   "metadata": {},
   "outputs": [
    {
     "data": {
      "text/plain": [
       "10.03"
      ]
     },
     "execution_count": 33,
     "metadata": {},
     "output_type": "execute_result"
    }
   ],
   "source": [
    "nonsuperhostyearround30 = datadf.loc[datadf[\"host_is_superhost\"] == \"f\"][\"availability_30\"]\n",
    "nonsh30 = round(nonsuperhostyearround30.mean(),2)\n",
    "nonsh30"
   ]
  },
  {
   "cell_type": "code",
   "execution_count": 34,
   "metadata": {},
   "outputs": [
    {
     "data": {
      "text/plain": [
       "24.76"
      ]
     },
     "execution_count": 34,
     "metadata": {},
     "output_type": "execute_result"
    }
   ],
   "source": [
    "nonsuperhostyearround60 = datadf.loc[datadf[\"host_is_superhost\"] == \"f\"][\"availability_60\"]\n",
    "nonsh60 = round(nonsuperhostyearround60.mean(),2)\n",
    "nonsh60"
   ]
  },
  {
   "cell_type": "code",
   "execution_count": 35,
   "metadata": {},
   "outputs": [
    {
     "data": {
      "text/plain": [
       "40.54"
      ]
     },
     "execution_count": 35,
     "metadata": {},
     "output_type": "execute_result"
    }
   ],
   "source": [
    "nonsuperhostyearround90 = datadf.loc[datadf[\"host_is_superhost\"] == \"f\"][\"availability_90\"]\n",
    "nonsh90 = round(nonsuperhostyearround90.mean(),2)\n",
    "nonsh90"
   ]
  },
  {
   "cell_type": "code",
   "execution_count": 36,
   "metadata": {},
   "outputs": [
    {
     "data": {
      "text/plain": [
       "143.69"
      ]
     },
     "execution_count": 36,
     "metadata": {},
     "output_type": "execute_result"
    }
   ],
   "source": [
    "nonsuperhostyearround365 = datadf.loc[datadf[\"host_is_superhost\"] == \"f\"][\"availability_365\"]\n",
    "nonsh365 = round(nonsuperhostyearround365.mean(),2)\n",
    "nonsh365"
   ]
  },
  {
   "cell_type": "code",
   "execution_count": 37,
   "metadata": {
    "scrolled": true
   },
   "outputs": [
    {
     "data": {
      "image/png": "[encoded data removed]",
      "text/plain": [
       "<Figure size 432x288 with 1 Axes>"
      ]
     },
     "metadata": {
      "needs_background": "light"
     },
     "output_type": "display_data"
    }
   ],
   "source": [
    "barWidth = 0.25\n",
    "bar01 = [sh30,sh60,sh90,sh365]\n",
    "bar02 = [nonsh30,nonsh60,nonsh90,nonsh365]\n",
    "\n",
    "\n",
    "rr1 = np.arange(len(bar01))\n",
    "rr2 = [x + barWidth for x in rr1]\n",
    "\n",
    "plt.bar(rr1,bar01,width=barWidth,color=\"purple\", label=\"Superhost\")\n",
    "plt.bar(rr2,bar02, width=barWidth,color=\"green\", label=\"Non Superhost\")\n",
    "\n",
    "plt.xlabel(\"Days of Availability\")\n",
    "plt.ylabel(\"# of Days\")\n",
    "plt.xticks([r + barWidth for r in range(len(bar01))], [\"30 days\", \"60 days\",\"90 days\", \"365 days\"], rotation=45)\n",
    "\n",
    "plt.legend()\n",
    "plt.show()"
   ]
  },
  {
   "cell_type": "code",
   "execution_count": 38,
   "metadata": {},
   "outputs": [
    {
     "data": {
      "image/png": "[encoded data removed]",
      "text/plain": [
       "<Figure size 432x288 with 1 Axes>"
      ]
     },
     "metadata": {},
     "output_type": "display_data"
    }
   ],
   "source": [
    "fig = plt.figure()\n",
    "ax = fig.add_axes([0,0,1,1])\n",
    "ax.axis('equal')\n",
    "days = [\"30 days\", \"60 days\",\"90 days\", \"365 days\"]\n",
    "shamount= [sh30,sh60,sh90,sh365]\n",
    "ax.pie(shamount,labels=days,autopct='%1.2f%%')\n",
    "plt.title(\"Superhost Days of Availibility\")\n",
    "plt.show()"
   ]
  },
  {
   "cell_type": "code",
   "execution_count": 39,
   "metadata": {},
   "outputs": [
    {
     "data": {
      "image/png": "[encoded data removed]",
      "text/plain": [
       "<Figure size 432x288 with 1 Axes>"
      ]
     },
     "metadata": {},
     "output_type": "display_data"
    }
   ],
   "source": [
    "fig = plt.figure()\n",
    "ax = fig.add_axes([0,0,1,1])\n",
    "ax.axis('equal')\n",
    "days = [\"30 days\", \"60 days\",\"90 days\", \"365 days\"]\n",
    "shamount= [nonsh30,nonsh60,nonsh90,nonsh365]\n",
    "ax.pie(shamount,labels=days,autopct='%1.2f%%')\n",
    "plt.title(\"Non Superhost Days of Availability\")\n",
    "plt.show()"
   ]
  },
  {
   "cell_type": "code",
   "execution_count": null,
   "metadata": {},
   "outputs": [],
   "source": []
  },
  {
   "cell_type": "code",
   "execution_count": null,
   "metadata": {},
   "outputs": [],
   "source": []
  },
  {
   "cell_type": "code",
   "execution_count": null,
   "metadata": {},
   "outputs": [],
   "source": []
  },
  {
   "cell_type": "code",
   "execution_count": null,
   "metadata": {},
   "outputs": [],
   "source": []
  },
  {
   "cell_type": "code",
   "execution_count": null,
   "metadata": {},
   "outputs": [],
   "source": []
  }
 ],
 "metadata": {
  "kernelspec": {
   "display_name": "Python 3",
   "language": "python",
   "name": "python3"
  },
  "language_info": {
   "codemirror_mode": {
    "name": "ipython",
    "version": 3
   },
   "file_extension": ".py",
   "mimetype": "text/x-python",
   "name": "python",
   "nbconvert_exporter": "python",
   "pygments_lexer": "ipython3",
   "version": "3.7.4"
  }
 },
 "nbformat": 4,
 "nbformat_minor": 2
}
