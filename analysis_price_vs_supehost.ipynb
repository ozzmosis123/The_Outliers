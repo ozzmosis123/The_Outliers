{
 "cells": [
  {
   "cell_type": "code",
   "execution_count": 1,
   "metadata": {},
   "outputs": [],
   "source": [
    "import pandas as pd\n",
    "import matplotlib.pyplot as plt\n",
    "import numpy as np\n",
    "import random\n",
    "import gmaps\n",
    "from scipy.stats import linregress\n",
    "# Configure gmaps\n",
    "from config import gkey\n",
    "gmaps.configure(api_key=gkey)"
   ]
  },
  {
   "cell_type": "code",
   "execution_count": 2,
   "metadata": {},
   "outputs": [],
   "source": [
    "airbnb_data = pd.read_csv(\"cities_with_all_interests_crimes.csv\")\n"
   ]
  },
  {
   "cell_type": "code",
   "execution_count": 3,
   "metadata": {},
   "outputs": [
    {
     "data": {
      "text/html": [
       "<div>\n",
       "<style scoped>\n",
       "    .dataframe tbody tr th:only-of-type {\n",
       "        vertical-align: middle;\n",
       "    }\n",
       "\n",
       "    .dataframe tbody tr th {\n",
       "        vertical-align: top;\n",
       "    }\n",
       "\n",
       "    .dataframe thead th {\n",
       "        text-align: right;\n",
       "    }\n",
       "</style>\n",
       "<table border=\"1\" class=\"dataframe\">\n",
       "  <thead>\n",
       "    <tr style=\"text-align: right;\">\n",
       "      <th></th>\n",
       "      <th>id</th>\n",
       "      <th>street</th>\n",
       "      <th>zipcode</th>\n",
       "      <th>neighbourhood</th>\n",
       "      <th>crime</th>\n",
       "      <th>crime counts</th>\n",
       "      <th>price</th>\n",
       "      <th>weekly_price</th>\n",
       "      <th>monthly_price</th>\n",
       "      <th>host_is_superhost</th>\n",
       "    </tr>\n",
       "  </thead>\n",
       "  <tbody>\n",
       "    <tr>\n",
       "      <th>0</th>\n",
       "      <td>27402246</td>\n",
       "      <td>Los Angeles, CA, United States</td>\n",
       "      <td>90026.0</td>\n",
       "      <td>Echo Park</td>\n",
       "      <td>47879.0</td>\n",
       "      <td>2740.0</td>\n",
       "      <td>85.0</td>\n",
       "      <td>0</td>\n",
       "      <td>0</td>\n",
       "      <td>f</td>\n",
       "    </tr>\n",
       "    <tr>\n",
       "      <th>1</th>\n",
       "      <td>5627346</td>\n",
       "      <td>Los Angeles, CA, United States</td>\n",
       "      <td>90068.0</td>\n",
       "      <td>Cahuenga Pass</td>\n",
       "      <td>47879.0</td>\n",
       "      <td>0.0</td>\n",
       "      <td>69.0</td>\n",
       "      <td>$450.00</td>\n",
       "      <td>$1,595.00</td>\n",
       "      <td>f</td>\n",
       "    </tr>\n",
       "    <tr>\n",
       "      <th>2</th>\n",
       "      <td>39090938</td>\n",
       "      <td>Los Angeles, CA, United States</td>\n",
       "      <td>90004.0</td>\n",
       "      <td>Mid-Wilshire</td>\n",
       "      <td>47879.0</td>\n",
       "      <td>2234.0</td>\n",
       "      <td>150.0</td>\n",
       "      <td>0</td>\n",
       "      <td>0</td>\n",
       "      <td>f</td>\n",
       "    </tr>\n",
       "    <tr>\n",
       "      <th>3</th>\n",
       "      <td>20678163</td>\n",
       "      <td>Los Angeles, CA, United States</td>\n",
       "      <td>90066.0</td>\n",
       "      <td>Mar Vista</td>\n",
       "      <td>47879.0</td>\n",
       "      <td>0.0</td>\n",
       "      <td>81.0</td>\n",
       "      <td>0</td>\n",
       "      <td>0</td>\n",
       "      <td>f</td>\n",
       "    </tr>\n",
       "    <tr>\n",
       "      <th>4</th>\n",
       "      <td>5299075</td>\n",
       "      <td>Santa Monica, CA, United States</td>\n",
       "      <td>90401.0</td>\n",
       "      <td>Santa Monica</td>\n",
       "      <td>7166.0</td>\n",
       "      <td>0.0</td>\n",
       "      <td>94.0</td>\n",
       "      <td>0</td>\n",
       "      <td>0</td>\n",
       "      <td>f</td>\n",
       "    </tr>\n",
       "  </tbody>\n",
       "</table>\n",
       "</div>"
      ],
      "text/plain": [
       "         id                           street  zipcode  neighbourhood    crime  \\\n",
       "0  27402246   Los Angeles, CA, United States  90026.0      Echo Park  47879.0   \n",
       "1   5627346   Los Angeles, CA, United States  90068.0  Cahuenga Pass  47879.0   \n",
       "2  39090938   Los Angeles, CA, United States  90004.0   Mid-Wilshire  47879.0   \n",
       "3  20678163   Los Angeles, CA, United States  90066.0      Mar Vista  47879.0   \n",
       "4   5299075  Santa Monica, CA, United States  90401.0   Santa Monica   7166.0   \n",
       "\n",
       "   crime counts  price weekly_price monthly_price host_is_superhost  \n",
       "0        2740.0   85.0            0             0                 f  \n",
       "1           0.0   69.0      $450.00     $1,595.00                 f  \n",
       "2        2234.0  150.0            0             0                 f  \n",
       "3           0.0   81.0            0             0                 f  \n",
       "4           0.0   94.0            0             0                 f  "
      ]
     },
     "execution_count": 3,
     "metadata": {},
     "output_type": "execute_result"
    }
   ],
   "source": [
    "airbnb_data[['id','street','zipcode',\n",
    "             'neighbourhood','crime','crime counts','price','weekly_price','monthly_price','host_is_superhost']].head()"
   ]
  },
  {
   "cell_type": "code",
   "execution_count": 36,
   "metadata": {},
   "outputs": [
    {
     "data": {
      "text/plain": [
       "array([90026., 90068., 90004., 90066., 90401., 90036., 91501., 90005.,\n",
       "       91505., 90035., 90020., 90815., 90062., 90069., 91343., 90015.,\n",
       "       90037., 90017., 90042., 90049., 90291., 90013., 90806., 90803.,\n",
       "       91606., 90018., 90025., 90028., 90808., 90019., 91306., 91801.,\n",
       "       90038., 90405., 91201., 90046., 90014., 90301., 91040., 90212.,\n",
       "       90403., 90302., 90006., 90029., 90404., 91206., 90027., 90024.,\n",
       "       90813., 91601., 90016., 91204., 90210., 90094., 90211., 90012.,\n",
       "       91325., 91107., 91367., 90303., 90064., 91406., 90814., 90039.,\n",
       "       90057., 91316., 90272., 90293., 91208., 90007., 91202., 90048.,\n",
       "       90043., 91344., 91331., 90033., 91101., 90065., 91411., 90802.,\n",
       "       91307., 91104., 91607., 90305.,     0., 91403., 91803., 91602.,\n",
       "       90011., 91311., 90034., 91105., 91342., 90041., 90031., 90008.,\n",
       "       91401., 90032., 91335., 91205., 91604., 91605., 91504., 90732.,\n",
       "       90804., 90045., 91364., 91506., 91356., 90805., 90063., 91103.,\n",
       "       90001., 90003., 91304., 91402., 91207., 90056., 90304., 90402.,\n",
       "       90010., 91203., 91423., 90744., 91352., 90807.])"
      ]
     },
     "execution_count": 36,
     "metadata": {},
     "output_type": "execute_result"
    }
   ],
   "source": [
    "\n",
    "airbnb_data['zipcode'].max()\n",
    "airbnb_data['zipcode'].unique()\n"
   ]
  },
  {
   "cell_type": "code",
   "execution_count": 37,
   "metadata": {},
   "outputs": [
    {
     "data": {
      "text/html": [
       "<div>\n",
       "<style scoped>\n",
       "    .dataframe tbody tr th:only-of-type {\n",
       "        vertical-align: middle;\n",
       "    }\n",
       "\n",
       "    .dataframe tbody tr th {\n",
       "        vertical-align: top;\n",
       "    }\n",
       "\n",
       "    .dataframe thead th {\n",
       "        text-align: right;\n",
       "    }\n",
       "</style>\n",
       "<table border=\"1\" class=\"dataframe\">\n",
       "  <thead>\n",
       "    <tr style=\"text-align: right;\">\n",
       "      <th></th>\n",
       "      <th>id</th>\n",
       "      <th>street</th>\n",
       "      <th>zipcode</th>\n",
       "      <th>neighbourhood</th>\n",
       "      <th>crime</th>\n",
       "      <th>crime counts</th>\n",
       "      <th>price</th>\n",
       "      <th>weekly_price</th>\n",
       "      <th>monthly_price</th>\n",
       "    </tr>\n",
       "  </thead>\n",
       "  <tbody>\n",
       "    <tr>\n",
       "      <th>0</th>\n",
       "      <td>27402246</td>\n",
       "      <td>Los Angeles, CA, United States</td>\n",
       "      <td>90026.0</td>\n",
       "      <td>Echo Park</td>\n",
       "      <td>47879.0</td>\n",
       "      <td>2740.0</td>\n",
       "      <td>85.0</td>\n",
       "      <td>0</td>\n",
       "      <td>0</td>\n",
       "    </tr>\n",
       "    <tr>\n",
       "      <th>1</th>\n",
       "      <td>5627346</td>\n",
       "      <td>Los Angeles, CA, United States</td>\n",
       "      <td>90068.0</td>\n",
       "      <td>Cahuenga Pass</td>\n",
       "      <td>47879.0</td>\n",
       "      <td>0.0</td>\n",
       "      <td>69.0</td>\n",
       "      <td>$450.00</td>\n",
       "      <td>$1,595.00</td>\n",
       "    </tr>\n",
       "    <tr>\n",
       "      <th>2</th>\n",
       "      <td>39090938</td>\n",
       "      <td>Los Angeles, CA, United States</td>\n",
       "      <td>90004.0</td>\n",
       "      <td>Mid-Wilshire</td>\n",
       "      <td>47879.0</td>\n",
       "      <td>2234.0</td>\n",
       "      <td>150.0</td>\n",
       "      <td>0</td>\n",
       "      <td>0</td>\n",
       "    </tr>\n",
       "    <tr>\n",
       "      <th>3</th>\n",
       "      <td>20678163</td>\n",
       "      <td>Los Angeles, CA, United States</td>\n",
       "      <td>90066.0</td>\n",
       "      <td>Mar Vista</td>\n",
       "      <td>47879.0</td>\n",
       "      <td>0.0</td>\n",
       "      <td>81.0</td>\n",
       "      <td>0</td>\n",
       "      <td>0</td>\n",
       "    </tr>\n",
       "    <tr>\n",
       "      <th>4</th>\n",
       "      <td>5299075</td>\n",
       "      <td>Santa Monica, CA, United States</td>\n",
       "      <td>90401.0</td>\n",
       "      <td>Santa Monica</td>\n",
       "      <td>7166.0</td>\n",
       "      <td>0.0</td>\n",
       "      <td>94.0</td>\n",
       "      <td>0</td>\n",
       "      <td>0</td>\n",
       "    </tr>\n",
       "  </tbody>\n",
       "</table>\n",
       "</div>"
      ],
      "text/plain": [
       "         id                           street  zipcode  neighbourhood    crime  \\\n",
       "0  27402246   Los Angeles, CA, United States  90026.0      Echo Park  47879.0   \n",
       "1   5627346   Los Angeles, CA, United States  90068.0  Cahuenga Pass  47879.0   \n",
       "2  39090938   Los Angeles, CA, United States  90004.0   Mid-Wilshire  47879.0   \n",
       "3  20678163   Los Angeles, CA, United States  90066.0      Mar Vista  47879.0   \n",
       "4   5299075  Santa Monica, CA, United States  90401.0   Santa Monica   7166.0   \n",
       "\n",
       "   crime counts  price weekly_price monthly_price  \n",
       "0        2740.0   85.0            0             0  \n",
       "1           0.0   69.0      $450.00     $1,595.00  \n",
       "2        2234.0  150.0            0             0  \n",
       "3           0.0   81.0            0             0  \n",
       "4           0.0   94.0            0             0  "
      ]
     },
     "execution_count": 37,
     "metadata": {},
     "output_type": "execute_result"
    }
   ],
   "source": [
    "airbnb_data[['id','street','zipcode'\n",
    "             ,'neighbourhood','crime','crime counts','price','weekly_price','monthly_price']].head()"
   ]
  },
  {
   "cell_type": "code",
   "execution_count": 38,
   "metadata": {},
   "outputs": [
    {
     "name": "stdout",
     "output_type": "stream",
     "text": [
      "The r-squared is: 0.15245219487906508\n"
     ]
    },
    {
     "data": {
      "image/png": "[encoded data removed]",
      "text/plain": [
       "<Figure size 432x288 with 1 Axes>"
      ]
     },
     "metadata": {
      "needs_background": "light"
     },
     "output_type": "display_data"
    }
   ],
   "source": [
    "x_values = airbnb_data['# point of interest']\n",
    "y_values = airbnb_data['price']\n",
    "\n",
    "(slope,intercept,rvalue,pvalue,stderr)=linregress(x_values,y_values)\n",
    "regress_values = x_values * slope + intercept\n",
    "line_eq = \"y = \" + str(round(slope,2)) + \"x + \" + str(round(intercept,2))\n",
    "plt.scatter(x_values,y_values)\n",
    "plt.plot(x_values,regress_values,\"r-\")\n",
    "plt.annotate(line_eq,(6,10),fontsize=15,color=\"red\")\n",
    "plt.title(\"Prices vs Point of interests\")\n",
    "plt.xlabel('Point of interests')\n",
    "plt.ylabel('Price')\n",
    "print(f\"The r-squared is: {rvalue}\")\n",
    "plt.savefig(\"figs/f-pt-pr\")\n",
    "plt.show()"
   ]
  },
  {
   "cell_type": "code",
   "execution_count": 39,
   "metadata": {},
   "outputs": [
    {
     "data": {
      "image/png": "[encoded data removed]",
      "text/plain": [
       "<Figure size 2880x1080 with 1 Axes>"
      ]
     },
     "metadata": {
      "needs_background": "light"
     },
     "output_type": "display_data"
    },
    {
     "data": {
      "text/plain": [
       "<Figure size 432x288 with 0 Axes>"
      ]
     },
     "metadata": {},
     "output_type": "display_data"
    }
   ],
   "source": [
    "super_host_num = airbnb_data.groupby('zipcode')['host_is_superhost'].count()\n",
    "plt.figure(figsize=(40,15))\n",
    "super_host_chart = super_host_num.plot(kind=\"bar\", title=\"Supehosts by zipcode\")\n",
    "super_host_chart.set_xlabel(\"zipcode\")\n",
    "super_host_chart.set_ylabel(\"Number of Superhost\")\n",
    "\n",
    "plt.show()\n",
    "plt.tight_layout()"
   ]
  },
  {
   "cell_type": "code",
   "execution_count": 40,
   "metadata": {},
   "outputs": [
    {
     "data": {
      "text/plain": [
       "array(['Venice', 'Marina Del Rey'], dtype=object)"
      ]
     },
     "execution_count": 40,
     "metadata": {},
     "output_type": "execute_result"
    }
   ],
   "source": [
    "neighbor_bnb1 = airbnb_data[airbnb_data['zipcode']==90046]\n",
    "neighbor_bnb1['neighbourhood'].unique()\n",
    "neighbor_bnb2 = airbnb_data[airbnb_data['zipcode']==90291]\n",
    "neighbor_bnb2['neighbourhood'].unique()"
   ]
  },
  {
   "cell_type": "code",
   "execution_count": 70,
   "metadata": {},
   "outputs": [],
   "source": [
    "superhost_count = airbnb_data.loc[airbnb_data['host_is_superhost']=='t']\n",
    "\n",
    "super_grouped = superhost_count.groupby('zipcode')['host_is_superhost'].count()\n",
    "\n"
   ]
  },
  {
   "cell_type": "code",
   "execution_count": 56,
   "metadata": {},
   "outputs": [],
   "source": [
    "locations = airbnb_data[[\"latitude\",\"longitude\",\"zipcode\"]]\n"
   ]
  },
  {
   "cell_type": "code",
   "execution_count": 69,
   "metadata": {},
   "outputs": [],
   "source": [
    "super_locations = locations.merge(super_grouped, on='zipcode')\n",
    "g"
   ]
  },
  {
   "cell_type": "code",
   "execution_count": 65,
   "metadata": {},
   "outputs": [],
   "source": [
    "# Plot Heatmap\"latitude\",\"longitude\"\n",
    "fig = gmaps.figure(map_type=\"HYBRID\")\n",
    "location1 = super_locations[[\"latitude\",\"longitude\"]]\n"
   ]
  },
  {
   "cell_type": "code",
   "execution_count": 66,
   "metadata": {
    "scrolled": true
   },
   "outputs": [
    {
     "data": {
      "application/vnd.jupyter.widget-view+json": {
       "model_id": "c0f1c0a4c5e34db8b7c92ea6a02670f7",
       "version_major": 2,
       "version_minor": 0
      },
      "text/plain": [
       "Figure(layout=FigureLayout(height='420px'))"
      ]
     },
     "metadata": {},
     "output_type": "display_data"
    }
   ],
   "source": [
    "# Create heat layer\n",
    "heat_layer = gmaps.heatmap_layer(location1, weights=super_locations[\"host_is_superhost\"], \n",
    "                                 max_intensity=500,\n",
    "                                 point_radius=5)\n",
    "\n",
    "\n",
    "# Add layer\n",
    "fig.add_layer(heat_layer)\n",
    "\n",
    "# Display figure\n",
    "fig"
   ]
  },
  {
   "cell_type": "code",
   "execution_count": 13,
   "metadata": {},
   "outputs": [
    {
     "name": "stdout",
     "output_type": "stream",
     "text": [
      "The r-squared is: -0.05458866758641763\n"
     ]
    },
    {
     "data": {
      "image/png": "[encoded data removed]",
      "text/plain": [
       "<Figure size 432x288 with 1 Axes>"
      ]
     },
     "metadata": {
      "needs_background": "light"
     },
     "output_type": "display_data"
    }
   ],
   "source": [
    "\n",
    "\n",
    "x_values = airbnb_data['zipcode']\n",
    "y_values = airbnb_data['price']\n",
    "\n",
    "(slope,intercept,rvalue,pvalue,stderr)=linregress(x_values,y_values)\n",
    "regress_values = x_values * slope + intercept\n",
    "line_eq = \"y = \" + str(round(slope,2)) + \"x + \" + str(round(intercept,2))\n",
    "plt.scatter(x_values,y_values)\n",
    "plt.plot(x_values,regress_values,\"r-\")\n",
    "plt.annotate(line_eq,(6,10),fontsize=15,color=\"red\")\n",
    "plt.title(\"Prices vs \")\n",
    "plt.xlabel('')\n",
    "plt.ylabel('Price')\n",
    "print(f\"The r-squared is: {rvalue}\")\n",
    "plt.show()"
   ]
  },
  {
   "cell_type": "code",
   "execution_count": 20,
   "metadata": {},
   "outputs": [
    {
     "name": "stdout",
     "output_type": "stream",
     "text": [
      "The r-squared is: 0.6178283400221946\n"
     ]
    },
    {
     "data": {
      "image/png": "[encoded data removed]",
      "text/plain": [
       "<Figure size 432x288 with 1 Axes>"
      ]
     },
     "metadata": {
      "needs_background": "light"
     },
     "output_type": "display_data"
    }
   ],
   "source": [
    "data = airbnb_data.loc[airbnb_data['square_feet']>0]\n",
    "x_values = data['square_feet']\n",
    "y_values = data['price']\n",
    "\n",
    "(slope,intercept,rvalue,pvalue,stderr)=linregress(x_values,y_values)\n",
    "regress_values = x_values * slope + intercept\n",
    "line_eq = \"y = \" + str(round(slope,2)) + \"x + \" + str(round(intercept,2))\n",
    "plt.scatter(x_values,y_values)\n",
    "plt.plot(x_values,regress_values,\"r-\")\n",
    "plt.annotate(line_eq,(6,10),fontsize=15,color=\"red\")\n",
    "plt.title(\"Prices vs square_feet \")\n",
    "plt.xlabel('square_feet')\n",
    "plt.ylabel('Price')\n",
    "print(f\"The r-squared is: {rvalue}\")\n",
    "plt.savefig(\"figs/f-sqr-pr\")\n",
    "plt.show()"
   ]
  }
 ],
 "metadata": {
  "kernelspec": {
   "display_name": "Python 3",
   "language": "python",
   "name": "python3"
  },
  "language_info": {
   "codemirror_mode": {
    "name": "ipython",
    "version": 3
   },
   "file_extension": ".py",
   "mimetype": "text/x-python",
   "name": "python",
   "nbconvert_exporter": "python",
   "pygments_lexer": "ipython3",
   "version": "3.7.3"
  }
 },
 "nbformat": 4,
 "nbformat_minor": 2
}
